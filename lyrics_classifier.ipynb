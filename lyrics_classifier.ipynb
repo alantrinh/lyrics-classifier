{
 "cells": [
  {
   "cell_type": "code",
   "execution_count": 2,
   "id": "8b4931d0-07c0-4060-9b01-6d7b98f8902e",
   "metadata": {},
   "outputs": [],
   "source": [
    "import pandas as pd\n",
    "import numpy as np\n",
    "import requests\n",
    "from bs4 import BeautifulSoup\n",
    "\n",
    "import re\n",
    "import time\n",
    "import random\n",
    "import os"
   ]
  },
  {
   "cell_type": "code",
   "execution_count": 3,
   "id": "59bb0fa6-f3ab-43eb-b3b0-78dfd6ef792b",
   "metadata": {},
   "outputs": [],
   "source": [
    "headers = {'User-Agent': 'Mozilla/5.0 (Macintosh; Intel Mac OS X 10_10_1) AppleWebKit/537.36 (KHTML, like Gecko) Chrome/39.0.2171.95 Safari/537.36'}\n",
    "url_base = 'http://www.lyrics.com'\n",
    "radiohead_path = '/artist/Radiohead/41092'\n",
    "tool_path = '/artist/Tool/23076'"
   ]
  },
  {
   "cell_type": "code",
   "execution_count": 154,
   "id": "e67a3c5c-adb9-4a3f-ae16-422e1253a52e",
   "metadata": {},
   "outputs": [],
   "source": [
    "def get_artist(url_path, directory):\n",
    "    response_artist = requests.get(url_base + url_path, headers=headers)\n",
    "    soup_artist = BeautifulSoup(response_artist.text, 'html.parser')\n",
    "    song_links = get_artist_song_links(soup_artist)\n",
    "    if not os.path.exists(directory):\n",
    "        os.makedirs(directory)\n",
    "        print(f'**Created directory: {directory}**')\n",
    "    save_lyrics(song_links, directory)\n",
    "    \n",
    "def get_artist_song_links(soup):\n",
    "    song_links = {}\n",
    "    for link in soup.find_all('a'):\n",
    "        if (link['href'].startswith('/lyric')):\n",
    "            if song_links.get(link.text):\n",
    "                song_links[link.text].append(url_base + link['href'])\n",
    "            else:\n",
    "                song_links[link.text] = [url_base + link['href']]\n",
    "    return song_links\n",
    "\n",
    "def save_lyrics(song_links, directory):  \n",
    "    for i, title in enumerate(song_links):\n",
    "        print(f'**Looking for {title}** {i - 1}/{len(song_links)}')\n",
    "        for title_link in song_links[title]:\n",
    "            filename = re.sub(r'[/:]', '_', title + '.txt')\n",
    "            if filename in os.listdir(f'{directory}/'):\n",
    "                print('**File already in directory**')\n",
    "                break\n",
    "            else:\n",
    "                time.sleep(random.random())\n",
    "                response_song = requests.get(title_link, headers=headers)\n",
    "                song_soup = BeautifulSoup(response_song.text, 'html.parser')\n",
    "                if song_soup.find('pre', id='lyric-body-text'):\n",
    "                    print('**Found Lyrics**')\n",
    "                    lyrics = song_soup.find('pre', id='lyric-body-text').text\n",
    "                    with open(f'{directory}/' + filename, 'w') as song_file:\n",
    "                        song_file.write(lyrics)\n",
    "                    break"
   ]
  },
  {
   "cell_type": "code",
   "execution_count": 150,
   "id": "c9607070-8681-4a54-b77a-185ddde0ac03",
   "metadata": {},
   "outputs": [
    {
     "name": "stdout",
     "output_type": "stream",
     "text": [
      "**Created directory: tool**\n",
      "**Looking for Fear Inoculum** 0/83\n",
      "**Found Lyrics**\n",
      "**Looking for Pneuma** 1/83\n",
      "**Found Lyrics**\n",
      "**Looking for Invincible** 2/83\n",
      "**Found Lyrics**\n",
      "**Looking for Descending** 3/83\n",
      "**Found Lyrics**\n",
      "**Looking for 7empest** 4/83\n",
      "**Found Lyrics**\n",
      "**Looking for Culling Voices** 5/83\n",
      "**Found Lyrics**\n",
      "**Looking for Parabola** 6/83\n",
      "**Found Lyrics**\n",
      "**Looking for Sweat** 7/83\n",
      "**Found Lyrics**\n",
      "**Looking for Vicarious** 8/83\n",
      "**Found Lyrics**\n",
      "**Looking for Jambi** 9/83\n",
      "**Found Lyrics**\n",
      "**Looking for Wings for Marie, Pt. 1** 10/83\n",
      "**Found Lyrics**\n",
      "**Looking for 10,000 Days (Wings, Pt. 2)** 11/83\n",
      "**Found Lyrics**\n",
      "**Looking for The Pot** 12/83\n",
      "**Found Lyrics**\n",
      "**Looking for Lipan Conjuring** 13/83\n",
      "**Found Lyrics**\n",
      "**Looking for Lost Keys (Blame Hofmann)** 14/83\n",
      "**Found Lyrics**\n",
      "**Looking for Roseta Stoned** 15/83\n",
      "**Found Lyrics**\n",
      "**Looking for Intension** 16/83\n",
      "**Found Lyrics**\n",
      "**Looking for Right in Two** 17/83\n",
      "**Found Lyrics**\n",
      "**Looking for Viginti Tres** 18/83\n",
      "**Looking for Parbola** 19/83\n",
      "**Found Lyrics**\n",
      "**Looking for Parabol** 20/83\n",
      "**Found Lyrics**\n",
      "**Looking for Schism** 21/83\n",
      "**Found Lyrics**\n",
      "**Looking for The Grudge** 22/83\n",
      "**Found Lyrics**\n",
      "**Looking for Eon Blue Apocalypse** 23/83\n",
      "**Looking for The Patient** 24/83\n",
      "**Found Lyrics**\n",
      "**Looking for Mantra** 25/83\n",
      "**Looking for Ticks & Leeches** 26/83\n",
      "**Found Lyrics**\n",
      "**Looking for Lateralus** 27/83\n",
      "**Found Lyrics**\n",
      "**Looking for Disposition** 28/83\n",
      "**Found Lyrics**\n",
      "**Looking for Reflection** 29/83\n",
      "**Found Lyrics**\n",
      "**Looking for Triad** 30/83\n",
      "**Looking for Faaip de Oiad** 31/83\n",
      "**Found Lyrics**\n",
      "**Looking for Third Eye [Live]** 32/83\n",
      "**Found Lyrics**\n",
      "**Looking for Part of Me [Live]** 33/83\n",
      "**Found Lyrics**\n",
      "**Looking for Pushit [Live]** 34/83\n",
      "**Looking for Message to Harry Manback, No. 2** 35/83\n",
      "**Looking for You Lied [Live]** 36/83\n",
      "**Found Lyrics**\n",
      "**Looking for Merkaba [Live]** 37/83\n",
      "**Found Lyrics**\n",
      "**Looking for No Quarter** 38/83\n",
      "**Looking for L.A.M.C.** 39/83\n",
      "**Found Lyrics**\n",
      "**Looking for Aenema** 40/83\n",
      "**Found Lyrics**\n",
      "**Looking for Stinkfist** 41/83\n",
      "**Found Lyrics**\n",
      "**Looking for Prison Sex** 42/83\n",
      "**Found Lyrics**\n",
      "**Looking for Sober** 43/83\n",
      "**Found Lyrics**\n",
      "**Looking for Eulogy** 44/83\n",
      "**Found Lyrics**\n",
      "**Looking for H.** 45/83\n",
      "**Found Lyrics**\n",
      "**Looking for Useful Idiot** 46/83\n",
      "**Looking for Forty Six & 2** 47/83\n",
      "**Found Lyrics**\n",
      "**Looking for Message to Harry Manback** 48/83\n",
      "**Found Lyrics**\n",
      "**Looking for Hooker with a Penis** 49/83\n",
      "**Found Lyrics**\n",
      "**Looking for Intermission** 50/83\n",
      "**Looking for Jimmy** 51/83\n",
      "**Found Lyrics**\n",
      "**Looking for Die Eier Von Satan** 52/83\n",
      "**Found Lyrics**\n",
      "**Looking for Pushit** 53/83\n",
      "**Found Lyrics**\n",
      "**Looking for Cesaro Summability** 54/83\n",
      "**Looking for Ænema** 55/83\n",
      "**Found Lyrics**\n",
      "**Looking for (-) Ions** 56/83\n",
      "**Looking for Third Eye** 57/83\n",
      "**Found Lyrics**\n",
      "**Looking for Hush** 58/83\n",
      "**Found Lyrics**\n",
      "**Looking for Jerk-Off** 59/83\n",
      "**Found Lyrics**\n",
      "**Looking for Cold and Ugly** 60/83\n",
      "**Found Lyrics**\n",
      "**Looking for Part of Me** 61/83\n",
      "**Found Lyrics**\n",
      "**Looking for Crawl Away** 62/83\n",
      "**Found Lyrics**\n",
      "**Looking for Swamp Song** 63/83\n",
      "**Found Lyrics**\n",
      "**Looking for Opiate** 64/83\n",
      "**Found Lyrics**\n",
      "**Looking for Bottom** 65/83\n",
      "**Found Lyrics**\n",
      "**Looking for Sober [Album Version]** 66/83\n",
      "**Found Lyrics**\n",
      "**Looking for Bottom [Original Version Live]** 67/83\n",
      "**Found Lyrics**\n",
      "**Looking for Intolerance [Live]** 68/83\n",
      "**Found Lyrics**\n",
      "**Looking for 4°** 69/83\n",
      "**Found Lyrics**\n",
      "**Looking for Flood/Disgustipated** 70/83\n",
      "**Looking for Disgustipated** 71/83\n",
      "**Found Lyrics**\n",
      "**Looking for Intolerance** 72/83\n",
      "**Found Lyrics**\n",
      "**Looking for Undertow** 73/83\n",
      "**Found Lyrics**\n",
      "**Looking for Flood** 74/83\n",
      "**Found Lyrics**\n",
      "**Looking for Cold and Ugly [Live]** 75/83\n",
      "**Looking for Jerk-Off [Live]** 76/83\n",
      "**Looking for Lamc** 77/83\n",
      "**Found Lyrics**\n",
      "**Looking for Message To Harry Manback II** 78/83\n",
      "**Found Lyrics**\n",
      "**Looking for Opiate² [Opiate Re-recording]** 79/83\n",
      "**Found Lyrics**\n",
      "**Looking for Rosetta Stoned** 80/83\n",
      "**Found Lyrics**\n",
      "**Looking for Revolution** 81/83\n",
      "**Found Lyrics**\n",
      "**Looking for You Lied** 82/83\n",
      "**Found Lyrics**\n"
     ]
    }
   ],
   "source": [
    "get_artist(tool_path, 'tool')"
   ]
  },
  {
   "cell_type": "code",
   "execution_count": 4,
   "id": "ffac64d6-c37f-4a84-9bf2-f1a5f3975d2e",
   "metadata": {},
   "outputs": [],
   "source": [
    "def build_corpus(directory):\n",
    "    corpus = []\n",
    "\n",
    "    for filename in os.listdir(f'{directory}/'):\n",
    "        if (not filename.startswith('.')) & os.path.isfile(f'{directory}/{filename}'):\n",
    "            with open(f'{directory}/' + filename, 'r') as f:\n",
    "                text = f.read() # split and filter out empty lines\n",
    "                corpus.append(text)\n",
    "        \n",
    "    return corpus"
   ]
  },
  {
   "cell_type": "code",
   "execution_count": 5,
   "id": "8f12ba57-fb04-4e90-ad97-4099788ecb03",
   "metadata": {},
   "outputs": [],
   "source": [
    "radiohead_corpus = build_corpus('radiohead')\n",
    "tool_corpus = build_corpus('tool')\n",
    "\n",
    "combined_corpus = radiohead_corpus + tool_corpus\n",
    "\n",
    "l1,l2 = len(radiohead_corpus), len(tool_corpus)\n",
    "labels = [f'radiohead_{i}' for i in range(l1)] + [f'tool_{i}' for i in range(l2)] "
   ]
  },
  {
   "cell_type": "code",
   "execution_count": 6,
   "id": "c114a7d5-e470-46e8-91ff-92386c2a2473",
   "metadata": {},
   "outputs": [
    {
     "data": {
      "text/plain": [
       "[\"That there\\nThat's not me\\nI go\\nWhere I please\\n\\nI walk through walls\\nI float down the Liffey\\nI'm not here\\nThis isn't happening\\n\\nI'm not here\\nI'm not here\\n\\nIn a little while\\nI'll be gone\\nThe moment's already passed\\nYeah it's gone\\n\\nAnd I'm not here\\nThis isn't happening\\nI'm not here\\nI'm not here\\n\\nStrobe lights and blown speakers\\nFireworks and hurricanes\\nI'm not here\\nThis isn't happening\\nI'm not here\\nI'm not here\",\n",
       " \"Are you such a dreamer,\\nTo put the world to rights?\\nI'll stay home forever,\\nWhere two and two always makes a five\\n\\nI'll lay down the tracks,\\nSandbag and hide,\\nJanuary has April showers,\\nAnd two and two always makes a five\\n\\nIt's the Devil's way now,\\nThere is no way out,\\nYou can scream and you can shout,\\nIt is too late now\\n\\nBecause you have not been\\nPayin' attention,\\nPayin' attention,\\nPayin' attention,\\nPayin' attention\\n\\nYeah I feel it, I needed attention,\\nPayin' attention,\\nPayin' attention,\\nPayin' attention\\n\\nYeah I need it, I needed attention,\\nI needed attention,\\nI needed attention,\\nI needed attention\\n\\nYeah I love it, the attention,\\nPayin' attention,\\nPayin' attention,\\nPayin' attention\\n\\n(Soon, oh)\\nI try to sing along,\\nI get it all wrong,\\n'Cause I'm not,\\n'Cause I'm not\\nI swat 'em like flies,\\nBut like flies the buggers keep coming back\\n\\nBut I'm not,\\nOh hail to the thief,\\nOh hail to the thief\\n\\nBut I'm not,\\nBut I'm not,\\nBut I'm not,\\nBut I'm not\\n\\nDon't question my authority or put me in the dock,\\n'Cause I'm not,\\n'Cause I'm not\\n\\nOh go up to the king, and the sky is falling in,\\nBut it's not,\\nBut it's not\\nBut it's not\\n\\nMaybe not,\\nMaybe not\",\n",
       " \"Faith, you're driving me away\\nYou do it everyday\\nYou don't mean it but it hurts like hell\\n\\nMy brain says I'm receiving pain\\nA lack of oxygen from my life support\\nMy iron lung\\n\\nWe're too young to fall asleep\\nToo cynical to speak\\nWe are loosing it, can't you tell?\\n\\nWe scratch our eternal itch\\nOur twentieth century bitch and we are grateful for our\\nIron lung\\n\\nSuck, suck your teenage thumb\\nToilet trained and dumb\\nWhen the power runs out we'll just hum\\n\\nThis this is our new song\\nJust like the last one\\nA total waste of time\\nMy iron lung\\n\\nIf you're frightened\\nYou can be frightened\\nYou can be, it's okay \\n\\nIf you're frightened\\nYou can be frightened\\nYou can be, it's okay\",\n",
       " 'Come on, come on\\nYou think you drive me crazy\\nCome on, come on\\nYou and whose army?\\nYou and your cronies\\nCome on, come on\\nHoly Roman empire\\nCome on if you think\\nCome on if you think\\nYou can take us on\\nYou can take us on\\n\\nYou and whose army?\\nYou and your cronies\\n\\nYou forget so easily\\nWe ride tonight\\nWe ride tonight\\nGhost horses\\nGhost horses\\nWe ride tonight\\nWe ride tonight\\nGhost horses\\nGhost horses\\nGhost horses',\n",
       " \"You got some nerve\\nComin' here comin' here\\nYou got some nerve\\nComin' here comin' here\\n\\nYou stole it all\\nGive it back\\nGive it back\\nGive it back\\n \\nYou know you should\\nBut you don't but you don't\\nYou know you should\\nBut you don't but you don't\"]"
      ]
     },
     "execution_count": 6,
     "metadata": {},
     "output_type": "execute_result"
    }
   ],
   "source": [
    "radiohead_corpus[0:5]"
   ]
  },
  {
   "cell_type": "code",
   "execution_count": 7,
   "id": "966736b1-f471-44c5-9254-a0cdfcb57115",
   "metadata": {},
   "outputs": [],
   "source": [
    "from sklearn.feature_extraction.text import TfidfVectorizer\n",
    "\n",
    "vectorizer = TfidfVectorizer(stop_words='english')\n",
    "vector = vectorizer.fit_transform(combined_corpus)\n",
    "\n",
    "feature_matrix = pd.DataFrame(\n",
    "    vector.todense(), \n",
    "    columns=vectorizer.get_feature_names_out(),\n",
    "    index=labels\n",
    ")"
   ]
  },
  {
   "cell_type": "code",
   "execution_count": 8,
   "id": "e3361838-6552-4e3d-b00e-94c3cdace0d6",
   "metadata": {},
   "outputs": [
    {
     "data": {
      "text/plain": [
       "1    158\n",
       "0     59\n",
       "Name: radiohead, dtype: int64"
      ]
     },
     "execution_count": 8,
     "metadata": {},
     "output_type": "execute_result"
    }
   ],
   "source": [
    "feature_matrix['radiohead'] = [int(index.split('_')[0] == 'radiohead') for index in feature_matrix.index]\n",
    "feature_matrix['radiohead'].value_counts()"
   ]
  },
  {
   "cell_type": "code",
   "execution_count": 9,
   "id": "56c9bcce-f0ac-4836-bd41-6407ea86ec59",
   "metadata": {},
   "outputs": [],
   "source": [
    "from sklearn.linear_model import LogisticRegression\n",
    "from sklearn.model_selection import train_test_split"
   ]
  },
  {
   "cell_type": "code",
   "execution_count": 10,
   "id": "90be1897-be1d-45f2-8025-cd0df4300f34",
   "metadata": {},
   "outputs": [
    {
     "data": {
      "text/html": [
       "<style>#sk-container-id-1 {color: black;background-color: white;}#sk-container-id-1 pre{padding: 0;}#sk-container-id-1 div.sk-toggleable {background-color: white;}#sk-container-id-1 label.sk-toggleable__label {cursor: pointer;display: block;width: 100%;margin-bottom: 0;padding: 0.3em;box-sizing: border-box;text-align: center;}#sk-container-id-1 label.sk-toggleable__label-arrow:before {content: \"▸\";float: left;margin-right: 0.25em;color: #696969;}#sk-container-id-1 label.sk-toggleable__label-arrow:hover:before {color: black;}#sk-container-id-1 div.sk-estimator:hover label.sk-toggleable__label-arrow:before {color: black;}#sk-container-id-1 div.sk-toggleable__content {max-height: 0;max-width: 0;overflow: hidden;text-align: left;background-color: #f0f8ff;}#sk-container-id-1 div.sk-toggleable__content pre {margin: 0.2em;color: black;border-radius: 0.25em;background-color: #f0f8ff;}#sk-container-id-1 input.sk-toggleable__control:checked~div.sk-toggleable__content {max-height: 200px;max-width: 100%;overflow: auto;}#sk-container-id-1 input.sk-toggleable__control:checked~label.sk-toggleable__label-arrow:before {content: \"▾\";}#sk-container-id-1 div.sk-estimator input.sk-toggleable__control:checked~label.sk-toggleable__label {background-color: #d4ebff;}#sk-container-id-1 div.sk-label input.sk-toggleable__control:checked~label.sk-toggleable__label {background-color: #d4ebff;}#sk-container-id-1 input.sk-hidden--visually {border: 0;clip: rect(1px 1px 1px 1px);clip: rect(1px, 1px, 1px, 1px);height: 1px;margin: -1px;overflow: hidden;padding: 0;position: absolute;width: 1px;}#sk-container-id-1 div.sk-estimator {font-family: monospace;background-color: #f0f8ff;border: 1px dotted black;border-radius: 0.25em;box-sizing: border-box;margin-bottom: 0.5em;}#sk-container-id-1 div.sk-estimator:hover {background-color: #d4ebff;}#sk-container-id-1 div.sk-parallel-item::after {content: \"\";width: 100%;border-bottom: 1px solid gray;flex-grow: 1;}#sk-container-id-1 div.sk-label:hover label.sk-toggleable__label {background-color: #d4ebff;}#sk-container-id-1 div.sk-serial::before {content: \"\";position: absolute;border-left: 1px solid gray;box-sizing: border-box;top: 0;bottom: 0;left: 50%;z-index: 0;}#sk-container-id-1 div.sk-serial {display: flex;flex-direction: column;align-items: center;background-color: white;padding-right: 0.2em;padding-left: 0.2em;position: relative;}#sk-container-id-1 div.sk-item {position: relative;z-index: 1;}#sk-container-id-1 div.sk-parallel {display: flex;align-items: stretch;justify-content: center;background-color: white;position: relative;}#sk-container-id-1 div.sk-item::before, #sk-container-id-1 div.sk-parallel-item::before {content: \"\";position: absolute;border-left: 1px solid gray;box-sizing: border-box;top: 0;bottom: 0;left: 50%;z-index: -1;}#sk-container-id-1 div.sk-parallel-item {display: flex;flex-direction: column;z-index: 1;position: relative;background-color: white;}#sk-container-id-1 div.sk-parallel-item:first-child::after {align-self: flex-end;width: 50%;}#sk-container-id-1 div.sk-parallel-item:last-child::after {align-self: flex-start;width: 50%;}#sk-container-id-1 div.sk-parallel-item:only-child::after {width: 0;}#sk-container-id-1 div.sk-dashed-wrapped {border: 1px dashed gray;margin: 0 0.4em 0.5em 0.4em;box-sizing: border-box;padding-bottom: 0.4em;background-color: white;}#sk-container-id-1 div.sk-label label {font-family: monospace;font-weight: bold;display: inline-block;line-height: 1.2em;}#sk-container-id-1 div.sk-label-container {text-align: center;}#sk-container-id-1 div.sk-container {/* jupyter's `normalize.less` sets `[hidden] { display: none; }` but bootstrap.min.css set `[hidden] { display: none !important; }` so we also need the `!important` here to be able to override the default hidden behavior on the sphinx rendered scikit-learn.org. See: https://github.com/scikit-learn/scikit-learn/issues/21755 */display: inline-block !important;position: relative;}#sk-container-id-1 div.sk-text-repr-fallback {display: none;}</style><div id=\"sk-container-id-1\" class=\"sk-top-container\"><div class=\"sk-text-repr-fallback\"><pre>LogisticRegression()</pre><b>In a Jupyter environment, please rerun this cell to show the HTML representation or trust the notebook. <br />On GitHub, the HTML representation is unable to render, please try loading this page with nbviewer.org.</b></div><div class=\"sk-container\" hidden><div class=\"sk-item\"><div class=\"sk-estimator sk-toggleable\"><input class=\"sk-toggleable__control sk-hidden--visually\" id=\"sk-estimator-id-1\" type=\"checkbox\" checked><label for=\"sk-estimator-id-1\" class=\"sk-toggleable__label sk-toggleable__label-arrow\">LogisticRegression</label><div class=\"sk-toggleable__content\"><pre>LogisticRegression()</pre></div></div></div></div></div>"
      ],
      "text/plain": [
       "LogisticRegression()"
      ]
     },
     "execution_count": 10,
     "metadata": {},
     "output_type": "execute_result"
    }
   ],
   "source": [
    "X_lr = feature_matrix.drop(columns='radiohead')\n",
    "y_lr = feature_matrix['radiohead']\n",
    "X_train_lr, X_test_lr, y_train_lr, y_test_lr = train_test_split(X_lr, y_lr, test_size = 0.2, random_state=42, stratify=y_lr)\n",
    "\n",
    "m = LogisticRegression()\n",
    "m.fit(X_train_lr, y_train_lr)"
   ]
  },
  {
   "cell_type": "code",
   "execution_count": 11,
   "id": "29263eae-7a1f-4307-9c76-4c9c25bfe415",
   "metadata": {},
   "outputs": [
    {
     "data": {
      "text/plain": [
       "0.7272727272727273"
      ]
     },
     "execution_count": 11,
     "metadata": {},
     "output_type": "execute_result"
    }
   ],
   "source": [
    "m.score(X_test_lr, y_test_lr)"
   ]
  },
  {
   "cell_type": "code",
   "execution_count": 12,
   "id": "bef68738-f8e3-4496-800a-218cc87a00a6",
   "metadata": {},
   "outputs": [
    {
     "data": {
      "text/plain": [
       "1    0.728324\n",
       "0    0.271676\n",
       "Name: radiohead, dtype: float64"
      ]
     },
     "execution_count": 12,
     "metadata": {},
     "output_type": "execute_result"
    }
   ],
   "source": [
    "y_train_lr.value_counts(normalize=True)"
   ]
  },
  {
   "cell_type": "code",
   "execution_count": 13,
   "id": "d32a7d9e-3ff5-440a-ab05-1cd4e9839efa",
   "metadata": {},
   "outputs": [
    {
     "data": {
      "text/plain": [
       "1    0.727273\n",
       "0    0.272727\n",
       "Name: radiohead, dtype: float64"
      ]
     },
     "execution_count": 13,
     "metadata": {},
     "output_type": "execute_result"
    }
   ],
   "source": [
    "y_test_lr.value_counts(normalize=True)"
   ]
  },
  {
   "cell_type": "markdown",
   "id": "2f29fbfb-3a74-403d-887b-4e8cb090ba94",
   "metadata": {},
   "source": [
    "# Naive Bayes"
   ]
  },
  {
   "cell_type": "code",
   "execution_count": 14,
   "id": "da7c2650-815c-48af-bab7-561638944df4",
   "metadata": {},
   "outputs": [],
   "source": [
    "import nltk\n",
    "#nltk.download('omw-1.4')\n",
    "#nltk.download(\"wordnet\")\n",
    "from nltk.tokenize import TreebankWordTokenizer\n",
    "from nltk.stem import WordNetLemmatizer"
   ]
  },
  {
   "cell_type": "code",
   "execution_count": 15,
   "id": "e2f7ee2b-ecd2-4c60-aa1e-8aa35b03b0a1",
   "metadata": {},
   "outputs": [],
   "source": [
    "CORPUS = [s.lower() for s in combined_corpus]"
   ]
  },
  {
   "cell_type": "code",
   "execution_count": 16,
   "id": "a2756bbf-e352-4a37-a3d5-202a582aeec4",
   "metadata": {},
   "outputs": [],
   "source": [
    "tokenizer = TreebankWordTokenizer()\n",
    "lemmatizer = WordNetLemmatizer()\n",
    "\n",
    "CLEAN_CORPUS = []\n",
    "\n",
    "for doc in CORPUS:\n",
    "    tokens = tokenizer.tokenize(text=doc)\n",
    "    clean_doc = \" \".join(lemmatizer.lemmatize(token) for token in tokens)\n",
    "    CLEAN_CORPUS.append(clean_doc)"
   ]
  },
  {
   "cell_type": "code",
   "execution_count": 17,
   "id": "9f53db3f-bc9c-4cfd-a731-27bc068bf480",
   "metadata": {},
   "outputs": [],
   "source": [
    "from nltk.corpus import stopwords\n",
    "from sklearn.feature_extraction.text import TfidfVectorizer\n",
    "\n",
    "STOPWORDS = stopwords.words('english')"
   ]
  },
  {
   "cell_type": "code",
   "execution_count": 18,
   "id": "f4e7e9ec-634a-4fd7-8e9b-77e433ec9c41",
   "metadata": {},
   "outputs": [],
   "source": [
    "LABELS = [label.split('_')[0] for label in labels]"
   ]
  },
  {
   "cell_type": "code",
   "execution_count": 19,
   "id": "72cee59a-953e-4887-b408-c2ef310575b5",
   "metadata": {},
   "outputs": [],
   "source": [
    "vectorizer = TfidfVectorizer(stop_words=STOPWORDS)\n",
    "\n",
    "CLEAN_CORPUS_train, CLEAN_CORPUS_test, LABELS_train, LABELS_test = train_test_split(CLEAN_CORPUS, LABELS, test_size = 0.2, random_state=42, stratify=LABELS)\n",
    "\n",
    "vectors_train = vectorizer.fit_transform(CLEAN_CORPUS_train)\n",
    "vectors_test = vectorizer.transform(CLEAN_CORPUS_test)"
   ]
  },
  {
   "cell_type": "code",
   "execution_count": 20,
   "id": "a597ae4a-a8d0-415b-a86a-349275e8ba06",
   "metadata": {},
   "outputs": [
    {
     "data": {
      "text/html": [
       "<div>\n",
       "<style scoped>\n",
       "    .dataframe tbody tr th:only-of-type {\n",
       "        vertical-align: middle;\n",
       "    }\n",
       "\n",
       "    .dataframe tbody tr th {\n",
       "        vertical-align: top;\n",
       "    }\n",
       "\n",
       "    .dataframe thead th {\n",
       "        text-align: right;\n",
       "    }\n",
       "</style>\n",
       "<table border=\"1\" class=\"dataframe\">\n",
       "  <thead>\n",
       "    <tr style=\"text-align: right;\">\n",
       "      <th></th>\n",
       "      <th>180</th>\n",
       "      <th>187</th>\n",
       "      <th>1994</th>\n",
       "      <th>21st</th>\n",
       "      <th>3018</th>\n",
       "      <th>58</th>\n",
       "      <th>900</th>\n",
       "      <th>abandon</th>\n",
       "      <th>ability</th>\n",
       "      <th>absolutely</th>\n",
       "      <th>...</th>\n",
       "      <th>yesterday</th>\n",
       "      <th>yet</th>\n",
       "      <th>yiddish</th>\n",
       "      <th>young</th>\n",
       "      <th>younger</th>\n",
       "      <th>yuppie</th>\n",
       "      <th>zauberworter</th>\n",
       "      <th>zion</th>\n",
       "      <th>zugeben</th>\n",
       "      <th>zweihundert</th>\n",
       "    </tr>\n",
       "  </thead>\n",
       "  <tbody>\n",
       "    <tr>\n",
       "      <th>radiohead</th>\n",
       "      <td>0.0</td>\n",
       "      <td>0.0</td>\n",
       "      <td>0.0</td>\n",
       "      <td>0.0</td>\n",
       "      <td>0.0</td>\n",
       "      <td>0.0</td>\n",
       "      <td>0.0</td>\n",
       "      <td>0.0</td>\n",
       "      <td>0.0</td>\n",
       "      <td>0.0</td>\n",
       "      <td>...</td>\n",
       "      <td>0.0</td>\n",
       "      <td>0.000000</td>\n",
       "      <td>0.0</td>\n",
       "      <td>0.0</td>\n",
       "      <td>0.0</td>\n",
       "      <td>0.0</td>\n",
       "      <td>0.0</td>\n",
       "      <td>0.0</td>\n",
       "      <td>0.0</td>\n",
       "      <td>0.0</td>\n",
       "    </tr>\n",
       "    <tr>\n",
       "      <th>radiohead</th>\n",
       "      <td>0.0</td>\n",
       "      <td>0.0</td>\n",
       "      <td>0.0</td>\n",
       "      <td>0.0</td>\n",
       "      <td>0.0</td>\n",
       "      <td>0.0</td>\n",
       "      <td>0.0</td>\n",
       "      <td>0.0</td>\n",
       "      <td>0.0</td>\n",
       "      <td>0.0</td>\n",
       "      <td>...</td>\n",
       "      <td>0.0</td>\n",
       "      <td>0.000000</td>\n",
       "      <td>0.0</td>\n",
       "      <td>0.0</td>\n",
       "      <td>0.0</td>\n",
       "      <td>0.0</td>\n",
       "      <td>0.0</td>\n",
       "      <td>0.0</td>\n",
       "      <td>0.0</td>\n",
       "      <td>0.0</td>\n",
       "    </tr>\n",
       "    <tr>\n",
       "      <th>radiohead</th>\n",
       "      <td>0.0</td>\n",
       "      <td>0.0</td>\n",
       "      <td>0.0</td>\n",
       "      <td>0.0</td>\n",
       "      <td>0.0</td>\n",
       "      <td>0.0</td>\n",
       "      <td>0.0</td>\n",
       "      <td>0.0</td>\n",
       "      <td>0.0</td>\n",
       "      <td>0.0</td>\n",
       "      <td>...</td>\n",
       "      <td>0.0</td>\n",
       "      <td>0.000000</td>\n",
       "      <td>0.0</td>\n",
       "      <td>0.0</td>\n",
       "      <td>0.0</td>\n",
       "      <td>0.0</td>\n",
       "      <td>0.0</td>\n",
       "      <td>0.0</td>\n",
       "      <td>0.0</td>\n",
       "      <td>0.0</td>\n",
       "    </tr>\n",
       "    <tr>\n",
       "      <th>radiohead</th>\n",
       "      <td>0.0</td>\n",
       "      <td>0.0</td>\n",
       "      <td>0.0</td>\n",
       "      <td>0.0</td>\n",
       "      <td>0.0</td>\n",
       "      <td>0.0</td>\n",
       "      <td>0.0</td>\n",
       "      <td>0.0</td>\n",
       "      <td>0.0</td>\n",
       "      <td>0.0</td>\n",
       "      <td>...</td>\n",
       "      <td>0.0</td>\n",
       "      <td>0.000000</td>\n",
       "      <td>0.0</td>\n",
       "      <td>0.0</td>\n",
       "      <td>0.0</td>\n",
       "      <td>0.0</td>\n",
       "      <td>0.0</td>\n",
       "      <td>0.0</td>\n",
       "      <td>0.0</td>\n",
       "      <td>0.0</td>\n",
       "    </tr>\n",
       "    <tr>\n",
       "      <th>radiohead</th>\n",
       "      <td>0.0</td>\n",
       "      <td>0.0</td>\n",
       "      <td>0.0</td>\n",
       "      <td>0.0</td>\n",
       "      <td>0.0</td>\n",
       "      <td>0.0</td>\n",
       "      <td>0.0</td>\n",
       "      <td>0.0</td>\n",
       "      <td>0.0</td>\n",
       "      <td>0.0</td>\n",
       "      <td>...</td>\n",
       "      <td>0.0</td>\n",
       "      <td>0.000000</td>\n",
       "      <td>0.0</td>\n",
       "      <td>0.0</td>\n",
       "      <td>0.0</td>\n",
       "      <td>0.0</td>\n",
       "      <td>0.0</td>\n",
       "      <td>0.0</td>\n",
       "      <td>0.0</td>\n",
       "      <td>0.0</td>\n",
       "    </tr>\n",
       "    <tr>\n",
       "      <th>...</th>\n",
       "      <td>...</td>\n",
       "      <td>...</td>\n",
       "      <td>...</td>\n",
       "      <td>...</td>\n",
       "      <td>...</td>\n",
       "      <td>...</td>\n",
       "      <td>...</td>\n",
       "      <td>...</td>\n",
       "      <td>...</td>\n",
       "      <td>...</td>\n",
       "      <td>...</td>\n",
       "      <td>...</td>\n",
       "      <td>...</td>\n",
       "      <td>...</td>\n",
       "      <td>...</td>\n",
       "      <td>...</td>\n",
       "      <td>...</td>\n",
       "      <td>...</td>\n",
       "      <td>...</td>\n",
       "      <td>...</td>\n",
       "      <td>...</td>\n",
       "    </tr>\n",
       "    <tr>\n",
       "      <th>radiohead</th>\n",
       "      <td>0.0</td>\n",
       "      <td>0.0</td>\n",
       "      <td>0.0</td>\n",
       "      <td>0.0</td>\n",
       "      <td>0.0</td>\n",
       "      <td>0.0</td>\n",
       "      <td>0.0</td>\n",
       "      <td>0.0</td>\n",
       "      <td>0.0</td>\n",
       "      <td>0.0</td>\n",
       "      <td>...</td>\n",
       "      <td>0.0</td>\n",
       "      <td>0.000000</td>\n",
       "      <td>0.0</td>\n",
       "      <td>0.0</td>\n",
       "      <td>0.0</td>\n",
       "      <td>0.0</td>\n",
       "      <td>0.0</td>\n",
       "      <td>0.0</td>\n",
       "      <td>0.0</td>\n",
       "      <td>0.0</td>\n",
       "    </tr>\n",
       "    <tr>\n",
       "      <th>radiohead</th>\n",
       "      <td>0.0</td>\n",
       "      <td>0.0</td>\n",
       "      <td>0.0</td>\n",
       "      <td>0.0</td>\n",
       "      <td>0.0</td>\n",
       "      <td>0.0</td>\n",
       "      <td>0.0</td>\n",
       "      <td>0.0</td>\n",
       "      <td>0.0</td>\n",
       "      <td>0.0</td>\n",
       "      <td>...</td>\n",
       "      <td>0.0</td>\n",
       "      <td>0.000000</td>\n",
       "      <td>0.0</td>\n",
       "      <td>0.0</td>\n",
       "      <td>0.0</td>\n",
       "      <td>0.0</td>\n",
       "      <td>0.0</td>\n",
       "      <td>0.0</td>\n",
       "      <td>0.0</td>\n",
       "      <td>0.0</td>\n",
       "    </tr>\n",
       "    <tr>\n",
       "      <th>tool</th>\n",
       "      <td>0.0</td>\n",
       "      <td>0.0</td>\n",
       "      <td>0.0</td>\n",
       "      <td>0.0</td>\n",
       "      <td>0.0</td>\n",
       "      <td>0.0</td>\n",
       "      <td>0.0</td>\n",
       "      <td>0.0</td>\n",
       "      <td>0.0</td>\n",
       "      <td>0.0</td>\n",
       "      <td>...</td>\n",
       "      <td>0.0</td>\n",
       "      <td>0.060701</td>\n",
       "      <td>0.0</td>\n",
       "      <td>0.0</td>\n",
       "      <td>0.0</td>\n",
       "      <td>0.0</td>\n",
       "      <td>0.0</td>\n",
       "      <td>0.0</td>\n",
       "      <td>0.0</td>\n",
       "      <td>0.0</td>\n",
       "    </tr>\n",
       "    <tr>\n",
       "      <th>tool</th>\n",
       "      <td>0.0</td>\n",
       "      <td>0.0</td>\n",
       "      <td>0.0</td>\n",
       "      <td>0.0</td>\n",
       "      <td>0.0</td>\n",
       "      <td>0.0</td>\n",
       "      <td>0.0</td>\n",
       "      <td>0.0</td>\n",
       "      <td>0.0</td>\n",
       "      <td>0.0</td>\n",
       "      <td>...</td>\n",
       "      <td>0.0</td>\n",
       "      <td>0.000000</td>\n",
       "      <td>0.0</td>\n",
       "      <td>0.0</td>\n",
       "      <td>0.0</td>\n",
       "      <td>0.0</td>\n",
       "      <td>0.0</td>\n",
       "      <td>0.0</td>\n",
       "      <td>0.0</td>\n",
       "      <td>0.0</td>\n",
       "    </tr>\n",
       "    <tr>\n",
       "      <th>tool</th>\n",
       "      <td>0.0</td>\n",
       "      <td>0.0</td>\n",
       "      <td>0.0</td>\n",
       "      <td>0.0</td>\n",
       "      <td>0.0</td>\n",
       "      <td>0.0</td>\n",
       "      <td>0.0</td>\n",
       "      <td>0.0</td>\n",
       "      <td>0.0</td>\n",
       "      <td>0.0</td>\n",
       "      <td>...</td>\n",
       "      <td>0.0</td>\n",
       "      <td>0.000000</td>\n",
       "      <td>0.0</td>\n",
       "      <td>0.0</td>\n",
       "      <td>0.0</td>\n",
       "      <td>0.0</td>\n",
       "      <td>0.0</td>\n",
       "      <td>0.0</td>\n",
       "      <td>0.0</td>\n",
       "      <td>0.0</td>\n",
       "    </tr>\n",
       "  </tbody>\n",
       "</table>\n",
       "<p>173 rows × 2692 columns</p>\n",
       "</div>"
      ],
      "text/plain": [
       "           180  187  1994  21st  3018   58  900  abandon  ability  absolutely  \\\n",
       "radiohead  0.0  0.0   0.0   0.0   0.0  0.0  0.0      0.0      0.0         0.0   \n",
       "radiohead  0.0  0.0   0.0   0.0   0.0  0.0  0.0      0.0      0.0         0.0   \n",
       "radiohead  0.0  0.0   0.0   0.0   0.0  0.0  0.0      0.0      0.0         0.0   \n",
       "radiohead  0.0  0.0   0.0   0.0   0.0  0.0  0.0      0.0      0.0         0.0   \n",
       "radiohead  0.0  0.0   0.0   0.0   0.0  0.0  0.0      0.0      0.0         0.0   \n",
       "...        ...  ...   ...   ...   ...  ...  ...      ...      ...         ...   \n",
       "radiohead  0.0  0.0   0.0   0.0   0.0  0.0  0.0      0.0      0.0         0.0   \n",
       "radiohead  0.0  0.0   0.0   0.0   0.0  0.0  0.0      0.0      0.0         0.0   \n",
       "tool       0.0  0.0   0.0   0.0   0.0  0.0  0.0      0.0      0.0         0.0   \n",
       "tool       0.0  0.0   0.0   0.0   0.0  0.0  0.0      0.0      0.0         0.0   \n",
       "tool       0.0  0.0   0.0   0.0   0.0  0.0  0.0      0.0      0.0         0.0   \n",
       "\n",
       "           ...  yesterday       yet  yiddish  young  younger  yuppie  \\\n",
       "radiohead  ...        0.0  0.000000      0.0    0.0      0.0     0.0   \n",
       "radiohead  ...        0.0  0.000000      0.0    0.0      0.0     0.0   \n",
       "radiohead  ...        0.0  0.000000      0.0    0.0      0.0     0.0   \n",
       "radiohead  ...        0.0  0.000000      0.0    0.0      0.0     0.0   \n",
       "radiohead  ...        0.0  0.000000      0.0    0.0      0.0     0.0   \n",
       "...        ...        ...       ...      ...    ...      ...     ...   \n",
       "radiohead  ...        0.0  0.000000      0.0    0.0      0.0     0.0   \n",
       "radiohead  ...        0.0  0.000000      0.0    0.0      0.0     0.0   \n",
       "tool       ...        0.0  0.060701      0.0    0.0      0.0     0.0   \n",
       "tool       ...        0.0  0.000000      0.0    0.0      0.0     0.0   \n",
       "tool       ...        0.0  0.000000      0.0    0.0      0.0     0.0   \n",
       "\n",
       "           zauberworter  zion  zugeben  zweihundert  \n",
       "radiohead           0.0   0.0      0.0          0.0  \n",
       "radiohead           0.0   0.0      0.0          0.0  \n",
       "radiohead           0.0   0.0      0.0          0.0  \n",
       "radiohead           0.0   0.0      0.0          0.0  \n",
       "radiohead           0.0   0.0      0.0          0.0  \n",
       "...                 ...   ...      ...          ...  \n",
       "radiohead           0.0   0.0      0.0          0.0  \n",
       "radiohead           0.0   0.0      0.0          0.0  \n",
       "tool                0.0   0.0      0.0          0.0  \n",
       "tool                0.0   0.0      0.0          0.0  \n",
       "tool                0.0   0.0      0.0          0.0  \n",
       "\n",
       "[173 rows x 2692 columns]"
      ]
     },
     "execution_count": 20,
     "metadata": {},
     "output_type": "execute_result"
    }
   ],
   "source": [
    "pd.DataFrame(vectors_train.todense(), columns=vectorizer.get_feature_names_out(), index=LABELS_train)"
   ]
  },
  {
   "cell_type": "code",
   "execution_count": 21,
   "id": "8bd9f99e-cfa6-4000-9b88-d6c4b28bba53",
   "metadata": {},
   "outputs": [],
   "source": [
    "from sklearn.naive_bayes import MultinomialNB"
   ]
  },
  {
   "cell_type": "code",
   "execution_count": 22,
   "id": "6af582e0-c649-4bde-a274-9944a43ccd0e",
   "metadata": {},
   "outputs": [
    {
     "data": {
      "text/html": [
       "<style>#sk-container-id-2 {color: black;background-color: white;}#sk-container-id-2 pre{padding: 0;}#sk-container-id-2 div.sk-toggleable {background-color: white;}#sk-container-id-2 label.sk-toggleable__label {cursor: pointer;display: block;width: 100%;margin-bottom: 0;padding: 0.3em;box-sizing: border-box;text-align: center;}#sk-container-id-2 label.sk-toggleable__label-arrow:before {content: \"▸\";float: left;margin-right: 0.25em;color: #696969;}#sk-container-id-2 label.sk-toggleable__label-arrow:hover:before {color: black;}#sk-container-id-2 div.sk-estimator:hover label.sk-toggleable__label-arrow:before {color: black;}#sk-container-id-2 div.sk-toggleable__content {max-height: 0;max-width: 0;overflow: hidden;text-align: left;background-color: #f0f8ff;}#sk-container-id-2 div.sk-toggleable__content pre {margin: 0.2em;color: black;border-radius: 0.25em;background-color: #f0f8ff;}#sk-container-id-2 input.sk-toggleable__control:checked~div.sk-toggleable__content {max-height: 200px;max-width: 100%;overflow: auto;}#sk-container-id-2 input.sk-toggleable__control:checked~label.sk-toggleable__label-arrow:before {content: \"▾\";}#sk-container-id-2 div.sk-estimator input.sk-toggleable__control:checked~label.sk-toggleable__label {background-color: #d4ebff;}#sk-container-id-2 div.sk-label input.sk-toggleable__control:checked~label.sk-toggleable__label {background-color: #d4ebff;}#sk-container-id-2 input.sk-hidden--visually {border: 0;clip: rect(1px 1px 1px 1px);clip: rect(1px, 1px, 1px, 1px);height: 1px;margin: -1px;overflow: hidden;padding: 0;position: absolute;width: 1px;}#sk-container-id-2 div.sk-estimator {font-family: monospace;background-color: #f0f8ff;border: 1px dotted black;border-radius: 0.25em;box-sizing: border-box;margin-bottom: 0.5em;}#sk-container-id-2 div.sk-estimator:hover {background-color: #d4ebff;}#sk-container-id-2 div.sk-parallel-item::after {content: \"\";width: 100%;border-bottom: 1px solid gray;flex-grow: 1;}#sk-container-id-2 div.sk-label:hover label.sk-toggleable__label {background-color: #d4ebff;}#sk-container-id-2 div.sk-serial::before {content: \"\";position: absolute;border-left: 1px solid gray;box-sizing: border-box;top: 0;bottom: 0;left: 50%;z-index: 0;}#sk-container-id-2 div.sk-serial {display: flex;flex-direction: column;align-items: center;background-color: white;padding-right: 0.2em;padding-left: 0.2em;position: relative;}#sk-container-id-2 div.sk-item {position: relative;z-index: 1;}#sk-container-id-2 div.sk-parallel {display: flex;align-items: stretch;justify-content: center;background-color: white;position: relative;}#sk-container-id-2 div.sk-item::before, #sk-container-id-2 div.sk-parallel-item::before {content: \"\";position: absolute;border-left: 1px solid gray;box-sizing: border-box;top: 0;bottom: 0;left: 50%;z-index: -1;}#sk-container-id-2 div.sk-parallel-item {display: flex;flex-direction: column;z-index: 1;position: relative;background-color: white;}#sk-container-id-2 div.sk-parallel-item:first-child::after {align-self: flex-end;width: 50%;}#sk-container-id-2 div.sk-parallel-item:last-child::after {align-self: flex-start;width: 50%;}#sk-container-id-2 div.sk-parallel-item:only-child::after {width: 0;}#sk-container-id-2 div.sk-dashed-wrapped {border: 1px dashed gray;margin: 0 0.4em 0.5em 0.4em;box-sizing: border-box;padding-bottom: 0.4em;background-color: white;}#sk-container-id-2 div.sk-label label {font-family: monospace;font-weight: bold;display: inline-block;line-height: 1.2em;}#sk-container-id-2 div.sk-label-container {text-align: center;}#sk-container-id-2 div.sk-container {/* jupyter's `normalize.less` sets `[hidden] { display: none; }` but bootstrap.min.css set `[hidden] { display: none !important; }` so we also need the `!important` here to be able to override the default hidden behavior on the sphinx rendered scikit-learn.org. See: https://github.com/scikit-learn/scikit-learn/issues/21755 */display: inline-block !important;position: relative;}#sk-container-id-2 div.sk-text-repr-fallback {display: none;}</style><div id=\"sk-container-id-2\" class=\"sk-top-container\"><div class=\"sk-text-repr-fallback\"><pre>MultinomialNB()</pre><b>In a Jupyter environment, please rerun this cell to show the HTML representation or trust the notebook. <br />On GitHub, the HTML representation is unable to render, please try loading this page with nbviewer.org.</b></div><div class=\"sk-container\" hidden><div class=\"sk-item\"><div class=\"sk-estimator sk-toggleable\"><input class=\"sk-toggleable__control sk-hidden--visually\" id=\"sk-estimator-id-2\" type=\"checkbox\" checked><label for=\"sk-estimator-id-2\" class=\"sk-toggleable__label sk-toggleable__label-arrow\">MultinomialNB</label><div class=\"sk-toggleable__content\"><pre>MultinomialNB()</pre></div></div></div></div></div>"
      ],
      "text/plain": [
       "MultinomialNB()"
      ]
     },
     "execution_count": 22,
     "metadata": {},
     "output_type": "execute_result"
    }
   ],
   "source": [
    "model_nb = MultinomialNB()\n",
    "model_nb.fit(vectors_train, LABELS_train)"
   ]
  },
  {
   "cell_type": "code",
   "execution_count": 23,
   "id": "b2e81926-9d6e-45e4-99b4-d44149e8cbff",
   "metadata": {},
   "outputs": [
    {
     "data": {
      "text/plain": [
       "0.791907514450867"
      ]
     },
     "execution_count": 23,
     "metadata": {},
     "output_type": "execute_result"
    }
   ],
   "source": [
    "model_nb.score(vectors_train, LABELS_train)"
   ]
  },
  {
   "cell_type": "code",
   "execution_count": 24,
   "id": "fb257b56-5c49-4bfa-a20d-fe73d78301bb",
   "metadata": {},
   "outputs": [
    {
     "data": {
      "text/plain": [
       "0.7272727272727273"
      ]
     },
     "execution_count": 24,
     "metadata": {},
     "output_type": "execute_result"
    }
   ],
   "source": [
    "model_nb.score(vectors_test, LABELS_test)"
   ]
  },
  {
   "cell_type": "code",
   "execution_count": 55,
   "id": "9f28c6d0-d66d-4953-9a28-b51f039ef84b",
   "metadata": {},
   "outputs": [
    {
     "data": {
      "text/plain": [
       "array(['radiohead', 'radiohead'], dtype='<U9')"
      ]
     },
     "execution_count": 55,
     "metadata": {},
     "output_type": "execute_result"
    }
   ],
   "source": [
    "new_lyrics = ['a roll', 'something has to change']\n",
    "new_vectors = vectorizer.transform(new_lyrics)\n",
    "model_nb.predict(new_vectors)"
   ]
  },
  {
   "cell_type": "code",
   "execution_count": 56,
   "id": "5362ff89-0331-4d9b-90d9-ccef7fadfe9d",
   "metadata": {},
   "outputs": [
    {
     "data": {
      "text/plain": [
       "array([[0.75542138, 0.24457862],\n",
       "       [0.71550424, 0.28449576]])"
      ]
     },
     "execution_count": 56,
     "metadata": {},
     "output_type": "execute_result"
    }
   ],
   "source": [
    "model_nb.predict_proba(new_vectors)"
   ]
  },
  {
   "cell_type": "code",
   "execution_count": 57,
   "id": "1838d182-4b5f-4054-84e2-d9ae3ed90899",
   "metadata": {},
   "outputs": [
    {
     "data": {
      "text/plain": [
       "array(['radiohead', 'tool'], dtype='<U9')"
      ]
     },
     "execution_count": 57,
     "metadata": {},
     "output_type": "execute_result"
    }
   ],
   "source": [
    "model_nb.classes_"
   ]
  },
  {
   "cell_type": "markdown",
   "id": "45db46ac-8d26-4a35-8eee-f57b9f8b2ed4",
   "metadata": {},
   "source": [
    "# Class Balancing"
   ]
  },
  {
   "cell_type": "code",
   "execution_count": 58,
   "id": "8753a986-999f-4dd2-85af-9527cab3faec",
   "metadata": {},
   "outputs": [],
   "source": [
    "from imblearn.over_sampling import SMOTE\n",
    "from imblearn.under_sampling import TomekLinks"
   ]
  },
  {
   "cell_type": "code",
   "execution_count": 85,
   "id": "04c16462-6955-4cc9-a4d6-f846bad853a0",
   "metadata": {},
   "outputs": [],
   "source": [
    "sm = SMOTE(sampling_strategy={'tool': 125}, random_state=42)\n",
    "vectors_train_smote, LABELS_train_smote = sm.fit_resample(np.asarray(vectors_train.todense()), LABELS_train)"
   ]
  },
  {
   "cell_type": "code",
   "execution_count": 60,
   "id": "d91a017f-1eb7-4f92-a380-78975e927638",
   "metadata": {},
   "outputs": [
    {
     "data": {
      "text/plain": [
       "radiohead    126\n",
       "tool         125\n",
       "dtype: int64"
      ]
     },
     "execution_count": 60,
     "metadata": {},
     "output_type": "execute_result"
    }
   ],
   "source": [
    "tl = TomekLinks(sampling_strategy='all')\n",
    "vectors_train_tl, LABELS_train_tl = tl.fit_resample(vectors_train_smote, LABELS_train_smote)\n",
    "\n",
    "pd.Series(LABELS_train_tl).value_counts()"
   ]
  },
  {
   "cell_type": "code",
   "execution_count": 89,
   "id": "98aa1f49-1b55-45b3-b9bf-2b3225cccd56",
   "metadata": {},
   "outputs": [
    {
     "data": {
      "text/html": [
       "<style>#sk-container-id-11 {color: black;background-color: white;}#sk-container-id-11 pre{padding: 0;}#sk-container-id-11 div.sk-toggleable {background-color: white;}#sk-container-id-11 label.sk-toggleable__label {cursor: pointer;display: block;width: 100%;margin-bottom: 0;padding: 0.3em;box-sizing: border-box;text-align: center;}#sk-container-id-11 label.sk-toggleable__label-arrow:before {content: \"▸\";float: left;margin-right: 0.25em;color: #696969;}#sk-container-id-11 label.sk-toggleable__label-arrow:hover:before {color: black;}#sk-container-id-11 div.sk-estimator:hover label.sk-toggleable__label-arrow:before {color: black;}#sk-container-id-11 div.sk-toggleable__content {max-height: 0;max-width: 0;overflow: hidden;text-align: left;background-color: #f0f8ff;}#sk-container-id-11 div.sk-toggleable__content pre {margin: 0.2em;color: black;border-radius: 0.25em;background-color: #f0f8ff;}#sk-container-id-11 input.sk-toggleable__control:checked~div.sk-toggleable__content {max-height: 200px;max-width: 100%;overflow: auto;}#sk-container-id-11 input.sk-toggleable__control:checked~label.sk-toggleable__label-arrow:before {content: \"▾\";}#sk-container-id-11 div.sk-estimator input.sk-toggleable__control:checked~label.sk-toggleable__label {background-color: #d4ebff;}#sk-container-id-11 div.sk-label input.sk-toggleable__control:checked~label.sk-toggleable__label {background-color: #d4ebff;}#sk-container-id-11 input.sk-hidden--visually {border: 0;clip: rect(1px 1px 1px 1px);clip: rect(1px, 1px, 1px, 1px);height: 1px;margin: -1px;overflow: hidden;padding: 0;position: absolute;width: 1px;}#sk-container-id-11 div.sk-estimator {font-family: monospace;background-color: #f0f8ff;border: 1px dotted black;border-radius: 0.25em;box-sizing: border-box;margin-bottom: 0.5em;}#sk-container-id-11 div.sk-estimator:hover {background-color: #d4ebff;}#sk-container-id-11 div.sk-parallel-item::after {content: \"\";width: 100%;border-bottom: 1px solid gray;flex-grow: 1;}#sk-container-id-11 div.sk-label:hover label.sk-toggleable__label {background-color: #d4ebff;}#sk-container-id-11 div.sk-serial::before {content: \"\";position: absolute;border-left: 1px solid gray;box-sizing: border-box;top: 0;bottom: 0;left: 50%;z-index: 0;}#sk-container-id-11 div.sk-serial {display: flex;flex-direction: column;align-items: center;background-color: white;padding-right: 0.2em;padding-left: 0.2em;position: relative;}#sk-container-id-11 div.sk-item {position: relative;z-index: 1;}#sk-container-id-11 div.sk-parallel {display: flex;align-items: stretch;justify-content: center;background-color: white;position: relative;}#sk-container-id-11 div.sk-item::before, #sk-container-id-11 div.sk-parallel-item::before {content: \"\";position: absolute;border-left: 1px solid gray;box-sizing: border-box;top: 0;bottom: 0;left: 50%;z-index: -1;}#sk-container-id-11 div.sk-parallel-item {display: flex;flex-direction: column;z-index: 1;position: relative;background-color: white;}#sk-container-id-11 div.sk-parallel-item:first-child::after {align-self: flex-end;width: 50%;}#sk-container-id-11 div.sk-parallel-item:last-child::after {align-self: flex-start;width: 50%;}#sk-container-id-11 div.sk-parallel-item:only-child::after {width: 0;}#sk-container-id-11 div.sk-dashed-wrapped {border: 1px dashed gray;margin: 0 0.4em 0.5em 0.4em;box-sizing: border-box;padding-bottom: 0.4em;background-color: white;}#sk-container-id-11 div.sk-label label {font-family: monospace;font-weight: bold;display: inline-block;line-height: 1.2em;}#sk-container-id-11 div.sk-label-container {text-align: center;}#sk-container-id-11 div.sk-container {/* jupyter's `normalize.less` sets `[hidden] { display: none; }` but bootstrap.min.css set `[hidden] { display: none !important; }` so we also need the `!important` here to be able to override the default hidden behavior on the sphinx rendered scikit-learn.org. See: https://github.com/scikit-learn/scikit-learn/issues/21755 */display: inline-block !important;position: relative;}#sk-container-id-11 div.sk-text-repr-fallback {display: none;}</style><div id=\"sk-container-id-11\" class=\"sk-top-container\"><div class=\"sk-text-repr-fallback\"><pre>MultinomialNB()</pre><b>In a Jupyter environment, please rerun this cell to show the HTML representation or trust the notebook. <br />On GitHub, the HTML representation is unable to render, please try loading this page with nbviewer.org.</b></div><div class=\"sk-container\" hidden><div class=\"sk-item\"><div class=\"sk-estimator sk-toggleable\"><input class=\"sk-toggleable__control sk-hidden--visually\" id=\"sk-estimator-id-13\" type=\"checkbox\" checked><label for=\"sk-estimator-id-13\" class=\"sk-toggleable__label sk-toggleable__label-arrow\">MultinomialNB</label><div class=\"sk-toggleable__content\"><pre>MultinomialNB()</pre></div></div></div></div></div>"
      ],
      "text/plain": [
       "MultinomialNB()"
      ]
     },
     "execution_count": 89,
     "metadata": {},
     "output_type": "execute_result"
    }
   ],
   "source": [
    "model_nb_tl = MultinomialNB()\n",
    "model_nb_tl.fit(vectors_train_tl, LABELS_train_tl)"
   ]
  },
  {
   "cell_type": "code",
   "execution_count": 90,
   "id": "211f19e5-ee69-4a6e-b606-8043943d37cc",
   "metadata": {},
   "outputs": [
    {
     "data": {
      "text/plain": [
       "0.9880478087649402"
      ]
     },
     "execution_count": 90,
     "metadata": {},
     "output_type": "execute_result"
    }
   ],
   "source": [
    "model_nb_tl.score(vectors_train_tl,LABELS_train_tl)"
   ]
  },
  {
   "cell_type": "code",
   "execution_count": 88,
   "id": "f93f68be-ddec-4450-b7ae-c065f20f5a6b",
   "metadata": {},
   "outputs": [
    {
     "data": {
      "text/plain": [
       "0.6363636363636364"
      ]
     },
     "execution_count": 88,
     "metadata": {},
     "output_type": "execute_result"
    }
   ],
   "source": [
    "model_nb_tl.score(vectors_test,LABELS_test)"
   ]
  },
  {
   "cell_type": "code",
   "execution_count": 64,
   "id": "45fc237c-f255-4237-abd5-b01618ed800c",
   "metadata": {},
   "outputs": [
    {
     "data": {
      "text/plain": [
       "array(['radiohead', 'tool'], dtype='<U9')"
      ]
     },
     "execution_count": 64,
     "metadata": {},
     "output_type": "execute_result"
    }
   ],
   "source": [
    "model_nb_tl.predict(new_vectors)"
   ]
  },
  {
   "cell_type": "code",
   "execution_count": 65,
   "id": "d421d0ca-20ef-48a6-906a-1e4479ee1895",
   "metadata": {},
   "outputs": [
    {
     "data": {
      "text/plain": [
       "array([[0.57157327, 0.42842673],\n",
       "       [0.32147617, 0.67852383]])"
      ]
     },
     "execution_count": 65,
     "metadata": {},
     "output_type": "execute_result"
    }
   ],
   "source": [
    "model_nb_tl.predict_proba(new_vectors)"
   ]
  },
  {
   "cell_type": "code",
   "execution_count": 66,
   "id": "3921ee92-6335-4c15-a749-d3f4d75f2633",
   "metadata": {},
   "outputs": [
    {
     "data": {
      "text/plain": [
       "array(['radiohead', 'tool'], dtype='<U9')"
      ]
     },
     "execution_count": 66,
     "metadata": {},
     "output_type": "execute_result"
    }
   ],
   "source": [
    "model_nb_tl.classes_"
   ]
  },
  {
   "cell_type": "code",
   "execution_count": 119,
   "id": "994354cb-45b6-4531-a1d1-afb4e78fcc8a",
   "metadata": {},
   "outputs": [],
   "source": [
    "import pickle\n",
    "\n",
    "with open('lyrics_classifier.pkl', 'wb') as my_file:\n",
    "\tpickle.dump(model_nb_tl, my_file)\n",
    "\n",
    "with open('lyrics_classifier_vectorizer.pkl', 'wb') as my_file:\n",
    "\tpickle.dump(vectorizer, my_file)"
   ]
  },
  {
   "cell_type": "markdown",
   "id": "5ca86ae9",
   "metadata": {},
   "source": [
    "# Pipeline"
   ]
  },
  {
   "cell_type": "code",
   "execution_count": 94,
   "id": "a35ffe06",
   "metadata": {},
   "outputs": [],
   "source": [
    "from imblearn.pipeline import Pipeline as imbPipeline\n",
    "\n",
    "pipeline = imbPipeline([\n",
    "    ('smote', SMOTE(sampling_strategy={'tool': 125}, random_state=42)),\n",
    "    ('tl', TomekLinks(sampling_strategy='all')),\n",
    "    ('model_mnb', MultinomialNB())\n",
    "])"
   ]
  },
  {
   "cell_type": "code",
   "execution_count": 95,
   "id": "15e3eb9b",
   "metadata": {},
   "outputs": [
    {
     "data": {
      "text/plain": [
       "0.9826589595375722"
      ]
     },
     "execution_count": 95,
     "metadata": {},
     "output_type": "execute_result"
    }
   ],
   "source": [
    "pipeline.fit(vectors_train, LABELS_train)\n",
    "pipeline.score(vectors_train, LABELS_train)"
   ]
  },
  {
   "cell_type": "code",
   "execution_count": 96,
   "id": "f07a1970",
   "metadata": {},
   "outputs": [
    {
     "data": {
      "text/plain": [
       "0.6363636363636364"
      ]
     },
     "execution_count": 96,
     "metadata": {},
     "output_type": "execute_result"
    }
   ],
   "source": [
    "\n",
    "pipeline.score(vectors_test, LABELS_test)"
   ]
  },
  {
   "cell_type": "markdown",
   "id": "299f0666",
   "metadata": {},
   "source": []
  }
 ],
 "metadata": {
  "kernelspec": {
   "display_name": "Python 3 (ipykernel)",
   "language": "python",
   "name": "python3"
  },
  "language_info": {
   "codemirror_mode": {
    "name": "ipython",
    "version": 3
   },
   "file_extension": ".py",
   "mimetype": "text/x-python",
   "name": "python",
   "nbconvert_exporter": "python",
   "pygments_lexer": "ipython3",
   "version": "3.9.12"
  },
  "vscode": {
   "interpreter": {
    "hash": "234289fa0325de54c502e427d6018a74d8b7a9c953f1664648928eefabe8038d"
   }
  }
 },
 "nbformat": 4,
 "nbformat_minor": 5
}
